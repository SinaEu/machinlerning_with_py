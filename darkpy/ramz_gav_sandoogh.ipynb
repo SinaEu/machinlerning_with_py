{
 "cells": [
  {
   "cell_type": "code",
   "execution_count": 93,
   "id": "ccb32a61",
   "metadata": {},
   "outputs": [],
   "source": [
    "def jamkol(ramz):\n",
    "    jamkolesh = 0\n",
    "    for k in dict_ramz:\n",
    "        jamkolesh += ramz[k]\n",
    "    return jamkolesh\n",
    "\n",
    "def good_ramz(dict_ramz):\n",
    "    if dict_ramz['panj']+dict_ramz['se'] == 14 and\\\n",
    "    dict_ramz['yek'] == dict_ramz['do']*2-1 and\\\n",
    "    dict_ramz['chahar'] == dict_ramz['do']+1 and\\\n",
    "    dict_ramz['do']+dict_ramz['se'] == 10 and\\\n",
    "    jamkol(dict_ramz) == 30:\n",
    "        return dict_ramz"
   ]
  },
  {
   "cell_type": "code",
   "execution_count": 94,
   "id": "bf609e9d",
   "metadata": {},
   "outputs": [
    {
     "name": "stdout",
     "output_type": "stream",
     "text": [
      "74658\n"
     ]
    }
   ],
   "source": [
    "dict_ramz = {}\n",
    "for ramz in range(0,100000):\n",
    "    framz = str(ramz).zfill(5)\n",
    "    dict_ramz['yek'] = int(framz[0])\n",
    "    dict_ramz['do'] = int(framz[1])\n",
    "    dict_ramz['se'] = int(framz[2])\n",
    "    dict_ramz['chahar'] = int(framz[3])\n",
    "    dict_ramz['panj'] = int(framz[4])\n",
    "    if good_ramz(dict_ramz):\n",
    "        print(framz)\n"
   ]
  }
 ],
 "metadata": {
  "kernelspec": {
   "display_name": "Python 3 (ipykernel)",
   "language": "python",
   "name": "python3"
  },
  "language_info": {
   "codemirror_mode": {
    "name": "ipython",
    "version": 3
   },
   "file_extension": ".py",
   "mimetype": "text/x-python",
   "name": "python",
   "nbconvert_exporter": "python",
   "pygments_lexer": "ipython3",
   "version": "3.11.1"
  }
 },
 "nbformat": 4,
 "nbformat_minor": 5
}
