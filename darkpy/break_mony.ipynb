{
 "cells": [
  {
   "cell_type": "code",
   "execution_count": 23,
   "id": "e31ee776",
   "metadata": {},
   "outputs": [
    {
     "name": "stdout",
     "output_type": "stream",
     "text": [
      "get your mony: 2\n",
      "1 adad 2 toman\n"
     ]
    }
   ],
   "source": [
    "import math\n",
    "mony = int(input('get your mony: '))\n",
    "break_mony = [5, 2, 1]\n",
    "for i in break_mony:\n",
    "    if(mony >= i):\n",
    "        x = math.floor(mony/i)\n",
    "        print(f\"{x} adad {i} toman\")\n",
    "        mony -= (x)*i"
   ]
  },
  {
   "cell_type": "code",
   "execution_count": 25,
   "id": "f2f256fa",
   "metadata": {},
   "outputs": [
    {
     "name": "stdout",
     "output_type": "stream",
     "text": [
      "get your mony12\n",
      "5 = 2, 2 = 1, 1 = 0\n"
     ]
    }
   ],
   "source": [
    "pool = int(input('get your mony'))\n",
    "five_mony, remand = divmod(pool,5)\n",
    "tow_mony, one_mony = divmod(remand,2)\n",
    "print(f\"5 = {five_mony}, 2 = {tow_mony}, 1 = {one_mony}\")"
   ]
  }
 ],
 "metadata": {
  "kernelspec": {
   "display_name": "Python 3 (ipykernel)",
   "language": "python",
   "name": "python3"
  },
  "language_info": {
   "codemirror_mode": {
    "name": "ipython",
    "version": 3
   },
   "file_extension": ".py",
   "mimetype": "text/x-python",
   "name": "python",
   "nbconvert_exporter": "python",
   "pygments_lexer": "ipython3",
   "version": "3.11.1"
  }
 },
 "nbformat": 4,
 "nbformat_minor": 5
}
