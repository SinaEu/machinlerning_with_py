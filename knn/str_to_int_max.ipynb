{
 "cells": [
  {
   "cell_type": "code",
   "execution_count": 31,
   "id": "ded67dce",
   "metadata": {},
   "outputs": [],
   "source": [
    "import numpy as np"
   ]
  },
  {
   "cell_type": "code",
   "execution_count": 32,
   "id": "eac1a0c8",
   "metadata": {},
   "outputs": [],
   "source": [
    "def str_to_int(data,colom_data):\n",
    "    str_data = data[colom_data]\n",
    "    str_name = []\n",
    "    for i in str_data:\n",
    "        if i not in str_name:\n",
    "            str_name.append(i)\n",
    "    number_data = np.arange(len(str_name))\n",
    "    data_dict = dict(zip(str_name,number_data))\n",
    "    str_to_number = list(map(data_dict.get,str_data))\n",
    "    data[colom_data] = str_to_number"
   ]
  }
 ],
 "metadata": {
  "kernelspec": {
   "display_name": "Python 3 (ipykernel)",
   "language": "python",
   "name": "python3"
  },
  "language_info": {
   "codemirror_mode": {
    "name": "ipython",
    "version": 3
   },
   "file_extension": ".py",
   "mimetype": "text/x-python",
   "name": "python",
   "nbconvert_exporter": "python",
   "pygments_lexer": "ipython3",
   "version": "3.11.1"
  }
 },
 "nbformat": 4,
 "nbformat_minor": 5
}
