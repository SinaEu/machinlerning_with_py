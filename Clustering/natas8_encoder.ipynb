{
 "cells": [
  {
   "cell_type": "code",
   "execution_count": 1,
   "id": "f7b2c5dd-7a2d-4dcb-a07a-58cc53bf4327",
   "metadata": {},
   "outputs": [],
   "source": [
    "import base64\n",
    "import binascii"
   ]
  },
  {
   "cell_type": "code",
   "execution_count": 2,
   "id": "82c821aa-5e68-400b-aa12-3c8e29e824f1",
   "metadata": {},
   "outputs": [],
   "source": [
    "data = '3d3d516343746d4d6d6c315669563362'"
   ]
  },
  {
   "cell_type": "code",
   "execution_count": 5,
   "id": "dfea8d72-4359-4786-ae6f-ff81ef1e8caf",
   "metadata": {},
   "outputs": [
    {
     "data": {
      "text/plain": [
       "b'==QcCtmMml1ViV3b'"
      ]
     },
     "execution_count": 5,
     "metadata": {},
     "output_type": "execute_result"
    }
   ],
   "source": [
    "binary = binascii.unhexlify(data)\n",
    "binary"
   ]
  },
  {
   "cell_type": "code",
   "execution_count": 7,
   "id": "81847571-b82e-4ddd-914c-8113625d8514",
   "metadata": {},
   "outputs": [
    {
     "data": {
      "text/plain": [
       "b'b3ViV1lmMmtCcQ=='"
      ]
     },
     "execution_count": 7,
     "metadata": {},
     "output_type": "execute_result"
    }
   ],
   "source": [
    "revers = binary[::-1]\n",
    "revers"
   ]
  },
  {
   "cell_type": "code",
   "execution_count": 11,
   "id": "44aefcba-82fd-44bb-84fe-0d1fb965a3b7",
   "metadata": {},
   "outputs": [
    {
     "data": {
      "text/plain": [
       "b'oubWYf2kBq'"
      ]
     },
     "execution_count": 11,
     "metadata": {},
     "output_type": "execute_result"
    }
   ],
   "source": [
    "j = base64.b64decode(revers)\n",
    "j"
   ]
  }
 ],
 "metadata": {
  "kernelspec": {
   "display_name": "Python 3 (ipykernel)",
   "language": "python",
   "name": "python3"
  },
  "language_info": {
   "codemirror_mode": {
    "name": "ipython",
    "version": 3
   },
   "file_extension": ".py",
   "mimetype": "text/x-python",
   "name": "python",
   "nbconvert_exporter": "python",
   "pygments_lexer": "ipython3",
   "version": "3.12.3"
  }
 },
 "nbformat": 4,
 "nbformat_minor": 5
}
